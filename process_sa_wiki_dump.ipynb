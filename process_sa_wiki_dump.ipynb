{
 "cells": [
  {
   "cell_type": "markdown",
   "metadata": {},
   "source": [
    "{{ badge }}"
   ]
  },
  {
   "cell_type": "code",
   "execution_count": 1,
   "metadata": {
    "colab": {
     "base_uri": "https://localhost:8080/"
    },
    "executionInfo": {
     "elapsed": 1805,
     "status": "ok",
     "timestamp": 1613791680469,
     "user": {
      "displayName": "Avinash Varna",
      "photoUrl": "",
      "userId": "10904081701203490550"
     },
     "user_tz": 420
    },
    "id": "bc8eTcWAUJUb",
    "outputId": "4b183caf-e117-449b-f056-15ff276ec890"
   },
   "outputs": [
    {
     "name": "stdout",
     "output_type": "stream",
     "text": [
      "/content/sawiki\n"
     ]
    }
   ],
   "source": [
    "# Download the dataset\n",
    "!mkdir sawiki\n",
    "%cd sawiki\n",
    "!wget -q -O sawiki.xml.zip https://github.com/avinashvarna/sa_wiki_text/blob/gh-pages/sawiki.xml.zip?raw=true"
   ]
  },
  {
   "cell_type": "code",
   "execution_count": 2,
   "metadata": {
    "colab": {
     "base_uri": "https://localhost:8080/"
    },
    "executionInfo": {
     "elapsed": 2428,
     "status": "ok",
     "timestamp": 1613791681099,
     "user": {
      "displayName": "Avinash Varna",
      "photoUrl": "",
      "userId": "10904081701203490550"
     },
     "user_tz": 420
    },
    "id": "4HlVoarxUYm6",
    "outputId": "f5c5b4a5-0991-47dc-c8bb-1d587cc61e37"
   },
   "outputs": [
    {
     "name": "stdout",
     "output_type": "stream",
     "text": [
      "total 46M\n",
      "-rw-rw-r-- 1 root root 46M Feb 20 02:42 sawiki.xml\n"
     ]
    }
   ],
   "source": [
    "# Unzip the archive and then delete it\n",
    "!unzip -q sawiki.xml.zip\n",
    "!rm sawiki.xml.zip\n",
    "!ls -lh"
   ]
  },
  {
   "cell_type": "code",
   "execution_count": 3,
   "metadata": {
    "colab": {
     "base_uri": "https://localhost:8080/"
    },
    "executionInfo": {
     "elapsed": 2427,
     "status": "ok",
     "timestamp": 1613791681102,
     "user": {
      "displayName": "Avinash Varna",
      "photoUrl": "",
      "userId": "10904081701203490550"
     },
     "user_tz": 420
    },
    "id": "6vJfjxgjVMnn",
    "outputId": "df27618b-f33d-4ec3-a431-3936e2c0759d"
   },
   "outputs": [
    {
     "name": "stdout",
     "output_type": "stream",
     "text": [
      "<doc id=\"9924\" url=\"https://sa.wikipedia.org/wiki?curid=9924\" title=\"रघुवंशम्\">\n",
      "रघुवंशम्\n",
      "\n",
      "रघुवंशं महाकविकालिदासेन विरचितं किञ्चन महाकाव्यमस्ति। तत् एकोनविंशति(१९)-सर्गात्मकं लालित्यपूर्णं महाकाव्यम्। रघुवंशस्य कथावस्तु सूर्यवंशस्य राज्ञां वर्णनाधारितम् अस्ति। दशमसर्गादारभ्य पञ्चदशसर्गपर्यन्तं रामस्य कथा वर्णिता अस्ति। तदुत्तरं रामवंश्यानां तत्तन्नृपाणां चरितानि उपन्यस्तानि। अन्तिमः सर्गः अग्निवर्णस्य गर्भवत्याः महाराज्ञ्याः शासनाचरणेन समं समाप्यते। कालिदासः अग्निवर्णपरवर्तिनां राज्ञाम् अपि वर्णनं चिकीर्षति स्म, परम् असौ कालेन कवलीकृतः इति किंवदन्ती। तथा च कालिदासेन परतः अपि रघुवंशस्य सर्गाः लिखिताः; परन्तु ते न प्राप्यन्ते इत्यपि प्रसिद्धिः। रघुवंशे येषां राज्ञां वर्णनानि सन्ति, तेषां रामायणवर्णितनृपैः सह भेदः आपतति, परन्तु वायुपुराण-वर्णितानुसारं रामवंशावल्या सह रघुवंशवर्णित-वंशावली भूयसा सामञ्जस्यं धारयति।\n",
      "\n",
      "रघुवंशं सूर्यकुलोत्पन्नानां भूपतीनां चरितकथनात्मकं वर्तते। दिलीपपुत्रस्य रघोर्नाम्ना सकल एव सूर्यवंशो रघुवंश इति ख्यातिं गतः। सूर्यवंशस्य रघुनाम्ना प्रसिद्धेः कारणं महाकविकालिदासः वर्णयति यत्,\n",
      "\n",
      "ततः समानीय स मानितार्थी हस्तौ स्वहस्तार्ज्जितवीरशब्दः।\n",
      "\n",
      "वंशस्य कर्त्तारमनन्तकीर्तिं सुदक्षिणायां तनयं ययाचे।। इति।\n",
      "\n",
      "महाकाव्यस्य लक्षणानुसारं यानि लक्षणानि आवश्यकतानि, तानि रघुवंशे दरीदृश्यन्ते। महाकाव्यस्य लक्षणानुसारम् अस्मिन् रघुवंशे एककुलोत्पनाः बहवः पृथ्वीपालाः वर्णिताः। अस्मिन् अङ्गी वीरो रसः। शृङ्गार-करुण-शान्तादयः रसाः, नाटकस्य सन्धयः च अङ्गानि यथास्थाने विहिताः। इदं च रामायणादिरूपाम् इतिहासकथाम् आश्रित्य प्रणीतम्। अत्र परमानन्ददायकाः धर्मार्थकामोक्षरूपाश्चत्वारो वर्गाः विहिताः। प्रारम्भेऽस्मिन् पार्वती-परमेश्वरयोः नमस्कारात्मकं मङ्गलाचरम् अस्ति। सर्गाणाम् आदिमध्येषु एकविधम् अन्तेषु अन्यविधं वृत्तम् अस्ति। नातिस्वल्पाः नातिदीर्घाश्चात्र ऊनविंशतिः सर्गाः। नवमसर्गे चान्यत्र क्वचित् क्वचित् नानावृत्तमयानि अपि पद्यानि सन्ति, प्रत्येकं सर्गान्ते भाविसर्गकथा सङ्केतिता। महाकाव्ये कथनीयाश्च सन्ध्यासूर्येन्दुरात्रिप्रदोषादयः सर्व एव विषयाः यथास्थानां वर्णिताः।\n",
      "कालिदासस्य विषये अनेकाः प्रवादाः प्रसिद्धाः सन्ति। मिथिलायां प्रवादः अस्ति यत्, कालिदासः मिथिलायाः निवासी आसीत्। दक्षिणप्रान्ते अपि कश्चन प्रवादः अस्ति यत्, सः दक्षिणात्यः आसीत् इति। वङ्गप्रदेशे रङ्गपुरे समानः प्रवादः अस्ति। सः विक्रमादित्यस्य नवरत्नेषु अन्यतमः आसीत् इति मन्यते।\n",
      "\n",
      "भारतीयैः, पाश्चात्यैः च विद्वद्भिः कृताः रघुवंशस्य अनेकाः टीकाः समुपलभ्यन्ते। तासु मल्लिनाथसूरेः टीका प्रसिद्धा। तस्याः नाम सञ्जीवनी-टीका इति। हिन्दीभाषायाम् अपि रघुवंशस्य टीका वर्तते, यस्याः नाम भावर्थदीपिकाभाषाटीका इति। अस्याः हिन्दीटीकाकारः पण्डितज्वालाप्रसादमिश्रः वर्तते। हिन्द्यां रघुवंशस्य मणिप्रभाटीका अपि वर्तते, यस्याः टीकाकारः श्रीहरगोविन्दमिश्रः।\n",
      "\n",
      "महाकविः कालिदासः शिवाशिवौ नत्वा रघुवंशस्य आरम्भं करोति। तत्र उपमालङ्कारस्य माध्यमेन सः कथयति यत्, अहं विशिष्टशब्दार्थयोः सम्यग्ज्ञानार्थं शब्दार्थाविव नित्यसम्मिश्रौ संसारस्य मातापितरौ शिवाशिवौ भक्त्या नमस्करोमि इति। एवं पार्वतीपरमेश्वरौ प्रसन्नौ भूत्वा तस्मै काव्यरचनायै शक्तिं दद्यास्ताम् इति प्राथ्यते। \n",
      "\n",
      "ततः रघुवंशीयानां राज्ञां प्रशासां कुर्वन् सः तेषां वर्णनेन स्वस्य असमर्थतां घोषयति। असमर्थतायां सत्याम् अपि अहं तेषां वर्णनं कर्तुं प्रयत्नं कुर्वन् अस्मि इत्युक्त्वा सः रघुवंशीयानां राज्ञां गुणानां वर्णनम् आरभते। प्रप्रथमं सः वैस्ववतमनोः उल्लेखं कृत्वा तस्य वंशे चन्दसमानः दलीप-नामकः राजः समुद्भूतः इत्युक्त्वा दिलीपस्य वर्णनम् आरभते।\n",
      "\n"
     ]
    }
   ],
   "source": [
    "# Examine first 20 lines in the xml file\n",
    "!head -n20 sawiki.xml"
   ]
  },
  {
   "cell_type": "code",
   "execution_count": 4,
   "metadata": {
    "executionInfo": {
     "elapsed": 3020,
     "status": "ok",
     "timestamp": 1613791681698,
     "user": {
      "displayName": "Avinash Varna",
      "photoUrl": "",
      "userId": "10904081701203490550"
     },
     "user_tz": 420
    },
    "id": "qzzorKCfVp6q"
   },
   "outputs": [],
   "source": [
    "# Read the xml file, split the sentences and write them out line-by-line\n",
    "output_file = 'sawiki_sentences.txt'\n",
    "\n",
    "with open('sawiki.xml', encoding='utf8') as f_in,\\\n",
    "      open(output_file, 'w', encoding='utf8') as f_out:\n",
    "  for line in f_in:\n",
    "    line = line.strip()\n",
    "    # Ignore empty lines and those that start with XML tags\n",
    "    if line == '' or line.startswith('<'):\n",
    "      continue\n",
    "    # Clean up trailing spaces and remove empty splits\n",
    "    sentences = [s.strip() for s in line.split('।')]\n",
    "    sentences = filter(lambda x: len(x) > 0, sentences)\n",
    "    # Write them out to the file\n",
    "    f_out.write('\\n'.join(sentences))\n",
    "    f_out.write('\\n')"
   ]
  },
  {
   "cell_type": "code",
   "execution_count": 5,
   "metadata": {
    "colab": {
     "base_uri": "https://localhost:8080/"
    },
    "executionInfo": {
     "elapsed": 3176,
     "status": "ok",
     "timestamp": 1613791681857,
     "user": {
      "displayName": "Avinash Varna",
      "photoUrl": "",
      "userId": "10904081701203490550"
     },
     "user_tz": 420
    },
    "id": "RgTY-kEceB-s",
    "outputId": "21f64bf2-5475-4bcf-f532-eaa73eec0332"
   },
   "outputs": [
    {
     "name": "stdout",
     "output_type": "stream",
     "text": [
      "रघुवंशम्\n",
      "रघुवंशं महाकविकालिदासेन विरचितं किञ्चन महाकाव्यमस्ति\n",
      "तत् एकोनविंशति(१९)-सर्गात्मकं लालित्यपूर्णं महाकाव्यम्\n",
      "रघुवंशस्य कथावस्तु सूर्यवंशस्य राज्ञां वर्णनाधारितम् अस्ति\n",
      "दशमसर्गादारभ्य पञ्चदशसर्गपर्यन्तं रामस्य कथा वर्णिता अस्ति\n",
      "तदुत्तरं रामवंश्यानां तत्तन्नृपाणां चरितानि उपन्यस्तानि\n",
      "अन्तिमः सर्गः अग्निवर्णस्य गर्भवत्याः महाराज्ञ्याः शासनाचरणेन समं समाप्यते\n",
      "कालिदासः अग्निवर्णपरवर्तिनां राज्ञाम् अपि वर्णनं चिकीर्षति स्म, परम् असौ कालेन कवलीकृतः इति किंवदन्ती\n",
      "तथा च कालिदासेन परतः अपि रघुवंशस्य सर्गाः लिखिताः; परन्तु ते न प्राप्यन्ते इत्यपि प्रसिद्धिः\n",
      "रघुवंशे येषां राज्ञां वर्णनानि सन्ति, तेषां रामायणवर्णितनृपैः सह भेदः आपतति, परन्तु वायुपुराण-वर्णितानुसारं रामवंशावल्या सह रघुवंशवर्णित-वंशावली भूयसा सामञ्जस्यं धारयति\n",
      "रघुवंशं सूर्यकुलोत्पन्नानां भूपतीनां चरितकथनात्मकं वर्तते\n",
      "दिलीपपुत्रस्य रघोर्नाम्ना सकल एव सूर्यवंशो रघुवंश इति ख्यातिं गतः\n",
      "सूर्यवंशस्य रघुनाम्ना प्रसिद्धेः कारणं महाकविकालिदासः वर्णयति यत्,\n",
      "ततः समानीय स मानितार्थी हस्तौ स्वहस्तार्ज्जितवीरशब्दः\n",
      "वंशस्य कर्त्तारमनन्तकीर्तिं सुदक्षिणायां तनयं ययाचे\n",
      "इति\n",
      "महाकाव्यस्य लक्षणानुसारं यानि लक्षणानि आवश्यकतानि, तानि रघुवंशे दरीदृश्यन्ते\n",
      "महाकाव्यस्य लक्षणानुसारम् अस्मिन् रघुवंशे एककुलोत्पनाः बहवः पृथ्वीपालाः वर्णिताः\n",
      "अस्मिन् अङ्गी वीरो रसः\n",
      "शृङ्गार-करुण-शान्तादयः रसाः, नाटकस्य सन्धयः च अङ्गानि यथास्थाने विहिताः\n"
     ]
    }
   ],
   "source": [
    "# Examine first 20 lines of output file\n",
    "!head -n20 $output_file"
   ]
  },
  {
   "cell_type": "code",
   "execution_count": 6,
   "metadata": {
    "colab": {
     "base_uri": "https://localhost:8080/"
    },
    "executionInfo": {
     "elapsed": 3174,
     "status": "ok",
     "timestamp": 1613791681859,
     "user": {
      "displayName": "Avinash Varna",
      "photoUrl": "",
      "userId": "10904081701203490550"
     },
     "user_tz": 420
    },
    "id": "aGEYaC3iXxCh",
    "outputId": "cfea124f-90ae-42e1-c34f-802885780e62"
   },
   "outputs": [
    {
     "name": "stdout",
     "output_type": "stream",
     "text": [
      "-rw-r--r-- 1 root root 44M Feb 20 03:28 sawiki_sentences.txt\n"
     ]
    }
   ],
   "source": [
    "# Check the size of the output file\n",
    "!ls -lh $output_file"
   ]
  }
 ],
 "metadata": {
  "colab": {
   "authorship_tag": "ABX9TyOyeTdCFkN4/WQHLTkB1Gmp",
   "collapsed_sections": [],
   "name": "Process sa_wiki dump.ipynb",
   "provenance": []
  },
  "kernelspec": {
   "display_name": "Python 3",
   "language": "python",
   "name": "python3"
  },
  "language_info": {
   "codemirror_mode": {
    "name": "ipython",
    "version": 3
   },
   "file_extension": ".py",
   "mimetype": "text/x-python",
   "name": "python",
   "nbconvert_exporter": "python",
   "pygments_lexer": "ipython3",
   "version": "3.8.5"
  }
 },
 "nbformat": 4,
 "nbformat_minor": 1
}
